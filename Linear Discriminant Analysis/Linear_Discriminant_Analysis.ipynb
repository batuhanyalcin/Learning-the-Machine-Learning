{
 "cells": [
  {
   "cell_type": "markdown",
   "metadata": {},
   "source": [
    "# Homework 07: Linear Discriminant Analysisn\n",
    "## Batuhan Yalçın\n",
    "### May 6, 2022"
   ]
  },
  {
   "cell_type": "code",
   "execution_count": 1,
   "metadata": {},
   "outputs": [],
   "source": [
    "import matplotlib.pyplot as plt\n",
    "import numpy as np\n",
    "import scipy.linalg as linalg\n",
    "from scipy import stats\n",
    "from scipy.spatial import distance\n",
    "import pandas as pd\n",
    "#from sklearn.metrics import confusion_matrix"
   ]
  },
  {
   "cell_type": "markdown",
   "metadata": {},
   "source": [
    "## Importing Data"
   ]
  },
  {
   "cell_type": "markdown",
   "metadata": {},
   "source": [
    "## Step 1"
   ]
  },
  {
   "cell_type": "code",
   "execution_count": 2,
   "metadata": {},
   "outputs": [],
   "source": [
    "# read data into memory\n",
    "images_data = np.genfromtxt(\"hw07_data_set_images.csv\", delimiter = \",\")\n",
    "labels_data = np.genfromtxt(\"hw07_data_set_labels.csv\", delimiter = \",\")"
   ]
  },
  {
   "cell_type": "markdown",
   "metadata": {},
   "source": [
    "## Step 2"
   ]
  },
  {
   "cell_type": "code",
   "execution_count": 3,
   "metadata": {},
   "outputs": [],
   "source": [
    "train_images = images_data[:2000,:]\n",
    "test_images = images_data[2000:,:]\n",
    "train_label = labels_data[:2000]\n",
    "test_label = labels_data[2000:]\n",
    "\n",
    "# get x and y values\n",
    "x_train = train_images\n",
    "y_train = train_label.astype(int)\n",
    "\n",
    "x_test = test_images\n",
    "y_test = test_label.astype(int)\n",
    "\n",
    "# get number of classes, number of samples, and number of features\n",
    "K = int(np.max(train_label))\n",
    "#N = x_train.shape[0]\n",
    "D = x_train.shape[1]\n",
    "\n",
    "# get numbers of train and test samples\n",
    "N_train = len(y_train)\n",
    "N_test = len(y_test)\n"
   ]
  },
  {
   "cell_type": "markdown",
   "metadata": {},
   "source": [
    "## STEP 3"
   ]
  },
  {
   "cell_type": "markdown",
   "metadata": {},
   "source": [
    "## Calculate Sw and SB"
   ]
  },
  {
   "cell_type": "code",
   "execution_count": 4,
   "metadata": {},
   "outputs": [
    {
     "name": "stdout",
     "output_type": "stream",
     "text": [
      "print(SW[0:5, 0:5])\n",
      "print(SB[0:5, 0:5])\n",
      "[[  195.0531401    138.98550725   138.24154589   273.64251208\n",
      "    184.90821256]\n",
      " [  138.98550725   146.68407152   137.97108222   212.80522823\n",
      "    144.25612894]\n",
      " [  138.24154589   137.97108222   237.79940915   222.04558827\n",
      "    157.47422967]\n",
      " [  273.64251208   212.80522823   222.04558827 10381.73114607\n",
      "   8779.022599  ]\n",
      " [  184.90821256   144.25612894   157.47422967  8779.022599\n",
      "  21507.10414962]]\n",
      "[[  0.8488599    0.86049275   1.26145411   4.64248792   7.89978744]\n",
      " [  0.86049275   1.07392848   2.24791778   8.49977177  10.72787106]\n",
      " [  1.26145411   2.24791778   6.68009085  25.25691173  26.33777033]\n",
      " [  4.64248792   8.49977177  25.25691173  97.25635393  94.117401  ]\n",
      " [  7.89978744  10.72787106  26.33777033  94.117401   144.92785038]]\n"
     ]
    }
   ],
   "source": [
    "sample_means = [np.mean(x_train[y_train==(c + 1)], axis = 0) for c in range(K)]\n",
    "point_mean = np.mean(sample_means,axis=0)\n",
    "np.shape(sample_means)\n",
    "mean_overall = np.mean(x_train, axis=0)\n",
    "\n",
    "SW = np.zeros((784,784))\n",
    "SB = np.zeros((784, 784))\n",
    "class_labels = np.unique(y_train)\n",
    "\n",
    "for c in class_labels:\n",
    "    X_c = x_train[y_train == c]\n",
    "    mean_c = np.mean(X_c, axis=0)\n",
    "    \n",
    "    SW += (X_c-mean_c).T.dot((X_c-mean_c))\n",
    "    \n",
    "    n_c = X_c.shape[0]\n",
    "    mean_diff = (mean_c - mean_overall).reshape(784, 1)\n",
    "    SB += n_c * (mean_diff).dot(mean_diff.T)\n",
    "    \n",
    "print(\"print(SW[0:5, 0:5])\")\n",
    "print(\"print(SB[0:5, 0:5])\")    \n",
    "print(SW[0:5, 0:5])\n",
    "print(SB[0:5, 0:5])"
   ]
  },
  {
   "cell_type": "markdown",
   "metadata": {},
   "source": [
    "## STEP 4"
   ]
  },
  {
   "cell_type": "markdown",
   "metadata": {},
   "source": [
    "## Calculate the largest nine eigenvalues"
   ]
  },
  {
   "cell_type": "markdown",
   "metadata": {},
   "source": [
    "## Principal Component Analysis"
   ]
  },
  {
   "cell_type": "code",
   "execution_count": 5,
   "metadata": {},
   "outputs": [
    {
     "name": "stdout",
     "output_type": "stream",
     "text": [
      "\n",
      "print(values[0:9])\n",
      "[26.03085646 11.57909822  7.86259994  5.12082313  3.60002676  3.22503144\n",
      "  2.71288241  1.3688596   1.13340931]\n"
     ]
    }
   ],
   "source": [
    "SWSB_Matrix = np.linalg.inv(SW).dot(SB)\n",
    "# Get eigenvalues and eigenvectors of SW^-1 * SB\n",
    "eigenvalues, eigenvectors = np.linalg.eig(SWSB_Matrix)\n",
    "eigenvectors = eigenvectors.T\n",
    "\n",
    "\n",
    "# sort eigenvalues largest to smallest\n",
    "idxs = np.argsort(abs(eigenvalues))[::-1]\n",
    "eigenvectors = eigenvectors[idxs]\n",
    "vectors = np.real(eigenvectors)\n",
    "\n",
    "#Get largest eigenvalues\n",
    "eigenvalues = eigenvalues[idxs]\n",
    "values = np.real(eigenvalues)\n",
    "\n",
    "\n",
    "print(\"\\nprint(values[0:9])\")\n",
    "print(values[0:9])\n",
    "## Principal Component Analysis"
   ]
  },
  {
   "cell_type": "markdown",
   "metadata": {},
   "source": [
    "## STEP 5"
   ]
  },
  {
   "cell_type": "markdown",
   "metadata": {},
   "source": [
    "## Plotting"
   ]
  },
  {
   "cell_type": "code",
   "execution_count": 6,
   "metadata": {
    "scrolled": true
   },
   "outputs": [],
   "source": [
    "# get two eigenvectors that correspond to the largest two eigenvalues\n",
    "linear_discriminants = eigenvectors[0 : 2]\n",
    "# calculate two-dimensional projections for train\n",
    "X_projected = np.dot(x_train, linear_discriminants.T)"
   ]
  },
  {
   "cell_type": "code",
   "execution_count": 7,
   "metadata": {},
   "outputs": [
    {
     "data": {
      "image/png": "[encoded data removed]",
      "text/plain": [
       "<Figure size 1152x432 with 2 Axes>"
      ]
     },
     "metadata": {
      "needs_background": "light"
     },
     "output_type": "display_data"
    }
   ],
   "source": [
    "# plot two-dimensional projections using lab taslak\n",
    "Z = np.real(X_projected)\n",
    "\n",
    "# plot two-dimensional projections\n",
    "plt.subplots(figsize=(16,6))\n",
    "plt.subplot(1, 2, 1)\n",
    "point_colors = np.array([\"#1f78b4\", \"#33a02c\", \"#e31a1c\", \"#ff7f00\", \"#6a3d9a\", \"#a6cee3\", \"#b2df8a\", \"#fb9a99\", \"#fdbf6f\", \"#cab2d6\"])\n",
    "for c in range(K):\n",
    "    plt.plot(Z[y_train == c + 1, 0], Z[y_train == c + 1, 1], marker = \"o\", markersize = 4, linestyle = \"none\", color = point_colors[c])\n",
    "plt.legend([\"t-shirt/top\", \"trouser\", \"pullover\", \"dress\", \"coat\", \"sandal\", \"shirt\", \"sneaker\", \n",
    "\"bag\", \"ankle boot\"],\n",
    "           loc = \"upper left\", markerscale = 2)\n",
    "plt.xlabel(\"Component#1\")\n",
    "plt.ylabel(\"Component#2\")\n",
    "plt.xlim(-6, 6)\n",
    "plt.ylim(-6, 6)\n",
    "\n",
    "# calculate two-dimensional projections for test\n",
    "X_projected_test = np.dot(x_test, linear_discriminants.T)\n",
    "Z_test = np.real(X_projected_test)\n",
    "\n",
    "plt.subplot(1, 2, 2)\n",
    "for c in range(K):\n",
    "    plt.plot(Z_test[y_test == c + 1, 0], Z_test[y_test == c + 1, 1], marker = \"o\", markersize = 4, linestyle = \"none\", color = point_colors[c])\n",
    "plt.legend([\"t-shirt/top\", \"trouser\", \"pullover\", \"dress\", \"coat\", \"sandal\", \"shirt\", \"sneaker\", \n",
    "\"bag\", \"ankle boot\"],\n",
    "           loc = \"upper left\", markerscale = 2)\n",
    "plt.xlabel(\"Component#1\")\n",
    "plt.ylabel(\"Component#2\")\n",
    "plt.xlim(-6, 6)\n",
    "plt.ylim(-6, 6)\n",
    "\n",
    "plt.show()\n"
   ]
  },
  {
   "cell_type": "markdown",
   "metadata": {},
   "source": [
    "## STEP 6"
   ]
  },
  {
   "cell_type": "markdown",
   "metadata": {},
   "source": []
  },
  {
   "cell_type": "code",
   "execution_count": 8,
   "metadata": {},
   "outputs": [],
   "source": [
    "## Project of the training and test data points in a 9-dimensional subspace\n",
    "linear_discriminants_9 = eigenvectors[0 : 9]\n",
    "X_projected_9 = np.dot(x_train, linear_discriminants_9.T)\n",
    "Z_9 = np.real(X_projected_9)\n",
    "X_projected_test_9 = np.dot(x_test, linear_discriminants_9.T)\n",
    "Z_test_9 = np.real(X_projected_test_9)## STEP 5## STEP 6\n"
   ]
  },
  {
   "cell_type": "markdown",
   "metadata": {},
   "source": [
    "## Slower solver"
   ]
  },
  {
   "cell_type": "code",
   "execution_count": 9,
   "metadata": {},
   "outputs": [],
   "source": [
    "#Slover solver using own implemntation of KNN\n",
    "def KNN_algorithm(X1_set,X2_set,N_train,K):\n",
    "    Y_hat = []\n",
    "    for i in range(N_train):\n",
    "        test_set = X1_set[i,:]\n",
    "        initial_distances = np.zeros(X2_set.shape[0])\n",
    "        for j in range(N_train):\n",
    "            initial_distances[j] = distance.euclidean(test_set, X2_set[j, :])\n",
    "        smallest_dists_indices = np.argsort(initial_distances)[:K]\n",
    "        \n",
    "        temp_classes = []\n",
    "        for k in smallest_dists_indices:\n",
    "            temp_classes.append(y_train[k])\n",
    "        prediction= stats.mode(temp_classes)[0]\n",
    "        Y_hat.append(prediction)\n",
    "        \n",
    "    return Y_hat"
   ]
  },
  {
   "cell_type": "markdown",
   "metadata": {},
   "source": [
    "## Training Performance"
   ]
  },
  {
   "cell_type": "code",
   "execution_count": 10,
   "metadata": {},
   "outputs": [
    {
     "name": "stdout",
     "output_type": "stream",
     "text": [
      "\n",
      "\n",
      "Slower Solution using my own implemntation of KNN classifier\n",
      "print(confusion_matrix_test)\n",
      "y_train   1    2    3    4    5    6    7    8    9    10\n",
      "y_hat                                                    \n",
      "1        203    0    1    1    0    0   15    0    0    0\n",
      "2          0  192    0    1    0    0    0    0    0    0\n",
      "3          0    0  198    0    3    0   11    0    0    0\n",
      "4          2    2    1  202    3    0    4    0    0    0\n",
      "5          0    0    8    1  201    0    9    0    0    0\n",
      "6          0    0    0    0    0  175    0    3    0    0\n",
      "7          9    0    2    6   11    0  168    0    1    0\n",
      "8          0    0    0    0    0    3    0  196    0    1\n",
      "9          0    0    0    0    0    0    0    0  183    0\n",
      "10         0    0    0    0    0    0    0    0    0  184\n",
      "print(confusion_matrix_test)\n",
      "y_test   1    2    3    4    5    6   7    8    9    10\n",
      "y_hat                                                  \n",
      "1       142    1   21    7    1    2  42    0    6    2\n",
      "2         0  183    1    4    2    0   1    0    0    0\n",
      "3         3    1  115    1   25    1  26    0    5    0\n",
      "4        17    3    4  167    9    7  14    0   12    4\n",
      "5         0    0   44    8  143    5  39    0    3    1\n",
      "6         1    1    2    0    1  118   3   18   17   12\n",
      "7        28    0   16   11   17    5  83    0    3    0\n",
      "8         0    0    0    1    0   32   0  167    2   14\n",
      "9         4    0    2    1    1    7   4    0  135    0\n",
      "10        0    0    0    0    0   25   1   19    5  172\n"
     ]
    }
   ],
   "source": [
    "print(\"print(confusion_matrix_test)\")\n",
    "y_hat_train_predict = KNN_algorithm(Z_9,Z_9,N_train,11)\n",
    "confusion_matrix_train = pd.crosstab(np.reshape(y_hat_train_predict, N_train), y_train,\n",
    "                               rownames = [\"y_hat\"], colnames = [\"y_train\"])\n",
    "print(confusion_matrix_train)\n",
    "\n",
    "y_hat_test = KNN_algorithm(Z_test_9,Z_9,N_train,11)\n",
    "confusion_matrix_test = pd.crosstab(np.reshape(y_hat_test, N_train), y_test,\n",
    "                               rownames = [\"y_hat\"], colnames = [\"y_test\"])\n",
    "print(\"print(confusion_matrix_test)\")\n",
    "print(confusion_matrix_test)"
   ]
  },
  {
   "cell_type": "code",
   "execution_count": null,
   "metadata": {},
   "outputs": [],
   "source": []
  }
 ],
 "metadata": {
  "kernelspec": {
   "display_name": "Python 3 (ipykernel)",
   "language": "python",
   "name": "python3"
  },
  "language_info": {
   "codemirror_mode": {
    "name": "ipython",
    "version": 3
   },
   "file_extension": ".py",
   "mimetype": "text/x-python",
   "name": "python",
   "nbconvert_exporter": "python",
   "pygments_lexer": "ipython3",
   "version": "3.9.7"
  },
  "varInspector": {
   "cols": {
    "lenName": 16,
    "lenType": 16,
    "lenVar": 40
   },
   "kernels_config": {
    "python": {
     "delete_cmd_postfix": "",
     "delete_cmd_prefix": "del ",
     "library": "var_list.py",
     "varRefreshCmd": "print(var_dic_list())"
    },
    "r": {
     "delete_cmd_postfix": ") ",
     "delete_cmd_prefix": "rm(",
     "library": "var_list.r",
     "varRefreshCmd": "cat(var_dic_list()) "
    }
   },
   "types_to_exclude": [
    "module",
    "function",
    "builtin_function_or_method",
    "instance",
    "_Feature"
   ],
   "window_display": false
  }
 },
 "nbformat": 4,
 "nbformat_minor": 4
}
